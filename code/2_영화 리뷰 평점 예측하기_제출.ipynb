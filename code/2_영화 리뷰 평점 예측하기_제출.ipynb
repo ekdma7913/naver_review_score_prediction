{
 "cells": [
  {
   "cell_type": "markdown",
   "id": "c58ed394",
   "metadata": {},
   "source": [
    "# 영화 리뷰 평점 예측 모델 구축"
   ]
  },
  {
   "cell_type": "markdown",
   "id": "f4861bca",
   "metadata": {},
   "source": [
    "## 데이터 전처리"
   ]
  },
  {
   "cell_type": "markdown",
   "id": "df9aca1c",
   "metadata": {},
   "source": [
    "### 필요한 패키지 임포트"
   ]
  },
  {
   "cell_type": "code",
   "execution_count": 275,
   "id": "ba7e2f78",
   "metadata": {},
   "outputs": [],
   "source": [
    "import pandas as pd\n",
    "import re"
   ]
  },
  {
   "cell_type": "code",
   "execution_count": 276,
   "id": "37831664",
   "metadata": {},
   "outputs": [],
   "source": [
    "from keras.datasets import reuters\n",
    "from keras.models import Sequential \n",
    "from keras.layers import Dense, LSTM, Embedding \n",
    "from keras.preprocessing import sequence \n",
    "from keras.preprocessing.sequence import pad_sequences\n",
    "from keras.utils import np_utils\n",
    "from tensorflow import keras"
   ]
  },
  {
   "cell_type": "markdown",
   "id": "99382a64",
   "metadata": {},
   "source": [
    "### 데이터 가져오기"
   ]
  },
  {
   "cell_type": "code",
   "execution_count": 277,
   "id": "2c8581c8",
   "metadata": {
    "scrolled": true
   },
   "outputs": [
    {
     "data": {
      "text/html": [
       "<div>\n",
       "<style scoped>\n",
       "    .dataframe tbody tr th:only-of-type {\n",
       "        vertical-align: middle;\n",
       "    }\n",
       "\n",
       "    .dataframe tbody tr th {\n",
       "        vertical-align: top;\n",
       "    }\n",
       "\n",
       "    .dataframe thead th {\n",
       "        text-align: right;\n",
       "    }\n",
       "</style>\n",
       "<table border=\"1\" class=\"dataframe\">\n",
       "  <thead>\n",
       "    <tr style=\"text-align: right;\">\n",
       "      <th></th>\n",
       "      <th>Unnamed: 0</th>\n",
       "      <th>name</th>\n",
       "      <th>num</th>\n",
       "      <th>review</th>\n",
       "    </tr>\n",
       "  </thead>\n",
       "  <tbody>\n",
       "    <tr>\n",
       "      <th>0</th>\n",
       "      <td>0</td>\n",
       "      <td>명량</td>\n",
       "      <td>10</td>\n",
       "      <td>역대 대명작이라 자부합니다^^</td>\n",
       "    </tr>\n",
       "    <tr>\n",
       "      <th>1</th>\n",
       "      <td>1</td>\n",
       "      <td>명량</td>\n",
       "      <td>10</td>\n",
       "      <td>진짜 이건 우리나라 영화계에 한 획을 그을 정도에 명작입니다 우리가 역사를 배워야 ...</td>\n",
       "    </tr>\n",
       "    <tr>\n",
       "      <th>2</th>\n",
       "      <td>2</td>\n",
       "      <td>명량</td>\n",
       "      <td>3</td>\n",
       "      <td>국뽕 범벅, 거품, 스크린독점 관객동원</td>\n",
       "    </tr>\n",
       "    <tr>\n",
       "      <th>3</th>\n",
       "      <td>3</td>\n",
       "      <td>명량</td>\n",
       "      <td>10</td>\n",
       "      <td>초등 고학년 아들과 진도에 다녀온후 같이 봣는데 정말 감사하고 감동이며 죄송스러운 ...</td>\n",
       "    </tr>\n",
       "    <tr>\n",
       "      <th>4</th>\n",
       "      <td>4</td>\n",
       "      <td>명량</td>\n",
       "      <td>10</td>\n",
       "      <td>깊게 숨을 들이쉬고 후하고 내뱉은 뒤, 이 영화를 보아라. 다보고 나서 이틀 뒤에 ...</td>\n",
       "    </tr>\n",
       "  </tbody>\n",
       "</table>\n",
       "</div>"
      ],
      "text/plain": [
       "   Unnamed: 0 name  num                                             review\n",
       "0           0   명량   10                                   역대 대명작이라 자부합니다^^\n",
       "1           1   명량   10  진짜 이건 우리나라 영화계에 한 획을 그을 정도에 명작입니다 우리가 역사를 배워야 ...\n",
       "2           2   명량    3                              국뽕 범벅, 거품, 스크린독점 관객동원\n",
       "3           3   명량   10  초등 고학년 아들과 진도에 다녀온후 같이 봣는데 정말 감사하고 감동이며 죄송스러운 ...\n",
       "4           4   명량   10  깊게 숨을 들이쉬고 후하고 내뱉은 뒤, 이 영화를 보아라. 다보고 나서 이틀 뒤에 ..."
      ]
     },
     "execution_count": 277,
     "metadata": {},
     "output_type": "execute_result"
    }
   ],
   "source": [
    "data = pd.read_excel('./영화목록.xlsx') # data = pd.read_excel('./영화목록3_복구.xlsx')\n",
    "data.head()"
   ]
  },
  {
   "cell_type": "markdown",
   "id": "a1fef909",
   "metadata": {},
   "source": [
    "### 데이터 확인"
   ]
  },
  {
   "cell_type": "code",
   "execution_count": 278,
   "id": "9dea4eaf",
   "metadata": {
    "scrolled": false
   },
   "outputs": [
    {
     "name": "stdout",
     "output_type": "stream",
     "text": [
      "<class 'pandas.core.frame.DataFrame'>\n",
      "RangeIndex: 10000 entries, 0 to 9999\n",
      "Data columns (total 4 columns):\n",
      " #   Column      Non-Null Count  Dtype \n",
      "---  ------      --------------  ----- \n",
      " 0   Unnamed: 0  10000 non-null  int64 \n",
      " 1   name        10000 non-null  object\n",
      " 2   num         10000 non-null  int64 \n",
      " 3   review      8930 non-null   object\n",
      "dtypes: int64(2), object(2)\n",
      "memory usage: 312.6+ KB\n"
     ]
    }
   ],
   "source": [
    "data.info()"
   ]
  },
  {
   "cell_type": "markdown",
   "id": "2cd1e7e2",
   "metadata": {},
   "source": [
    "### 결측값 처리"
   ]
  },
  {
   "cell_type": "code",
   "execution_count": 279,
   "id": "086c9668",
   "metadata": {},
   "outputs": [],
   "source": [
    "data = data[data['review'].notnull()]\n",
    "data = data[data['num'].notnull()]"
   ]
  },
  {
   "cell_type": "code",
   "execution_count": 280,
   "id": "37b1d38a",
   "metadata": {},
   "outputs": [
    {
     "name": "stdout",
     "output_type": "stream",
     "text": [
      "<class 'pandas.core.frame.DataFrame'>\n",
      "Int64Index: 8930 entries, 0 to 9999\n",
      "Data columns (total 4 columns):\n",
      " #   Column      Non-Null Count  Dtype \n",
      "---  ------      --------------  ----- \n",
      " 0   Unnamed: 0  8930 non-null   int64 \n",
      " 1   name        8930 non-null   object\n",
      " 2   num         8930 non-null   int64 \n",
      " 3   review      8930 non-null   object\n",
      "dtypes: int64(2), object(2)\n",
      "memory usage: 348.8+ KB\n"
     ]
    }
   ],
   "source": [
    "data.info()"
   ]
  },
  {
   "cell_type": "code",
   "execution_count": 281,
   "id": "0d5e96b7",
   "metadata": {
    "scrolled": false
   },
   "outputs": [
    {
     "data": {
      "text/html": [
       "<div>\n",
       "<style scoped>\n",
       "    .dataframe tbody tr th:only-of-type {\n",
       "        vertical-align: middle;\n",
       "    }\n",
       "\n",
       "    .dataframe tbody tr th {\n",
       "        vertical-align: top;\n",
       "    }\n",
       "\n",
       "    .dataframe thead th {\n",
       "        text-align: right;\n",
       "    }\n",
       "</style>\n",
       "<table border=\"1\" class=\"dataframe\">\n",
       "  <thead>\n",
       "    <tr style=\"text-align: right;\">\n",
       "      <th></th>\n",
       "      <th>Unnamed: 0</th>\n",
       "      <th>name</th>\n",
       "      <th>num</th>\n",
       "      <th>review</th>\n",
       "    </tr>\n",
       "  </thead>\n",
       "  <tbody>\n",
       "    <tr>\n",
       "      <th>9994</th>\n",
       "      <td>9994</td>\n",
       "      <td>블랙 팬서</td>\n",
       "      <td>10</td>\n",
       "      <td>나의 영원한 왕 영원한 히어로..이제 하늘을 지키기위해 갔다고 생각할래요...와칸다...</td>\n",
       "    </tr>\n",
       "    <tr>\n",
       "      <th>9996</th>\n",
       "      <td>9996</td>\n",
       "      <td>블랙 팬서</td>\n",
       "      <td>10</td>\n",
       "      <td>와칸다의 왕, 그의 죽음은 끝이 아니길..</td>\n",
       "    </tr>\n",
       "    <tr>\n",
       "      <th>9997</th>\n",
       "      <td>9997</td>\n",
       "      <td>블랙 팬서</td>\n",
       "      <td>10</td>\n",
       "      <td>와칸다 포에버!! 당신이 떠났어도 왕국을 지키겠습니다</td>\n",
       "    </tr>\n",
       "    <tr>\n",
       "      <th>9998</th>\n",
       "      <td>9998</td>\n",
       "      <td>블랙 팬서</td>\n",
       "      <td>10</td>\n",
       "      <td>처음 볼 때는 그저 재미있는 영화라고 생각을 하였습니다. 그런데 암 투병 중에 촬영...</td>\n",
       "    </tr>\n",
       "    <tr>\n",
       "      <th>9999</th>\n",
       "      <td>9999</td>\n",
       "      <td>블랙 팬서</td>\n",
       "      <td>10</td>\n",
       "      <td>R.I.P 채드윅. 영원한 블랙팬서</td>\n",
       "    </tr>\n",
       "  </tbody>\n",
       "</table>\n",
       "</div>"
      ],
      "text/plain": [
       "      Unnamed: 0   name  num  \\\n",
       "9994        9994  블랙 팬서   10   \n",
       "9996        9996  블랙 팬서   10   \n",
       "9997        9997  블랙 팬서   10   \n",
       "9998        9998  블랙 팬서   10   \n",
       "9999        9999  블랙 팬서   10   \n",
       "\n",
       "                                                 review  \n",
       "9994  나의 영원한 왕 영원한 히어로..이제 하늘을 지키기위해 갔다고 생각할래요...와칸다...  \n",
       "9996                            와칸다의 왕, 그의 죽음은 끝이 아니길..  \n",
       "9997                      와칸다 포에버!! 당신이 떠났어도 왕국을 지키겠습니다  \n",
       "9998  처음 볼 때는 그저 재미있는 영화라고 생각을 하였습니다. 그런데 암 투병 중에 촬영...  \n",
       "9999                                R.I.P 채드윅. 영원한 블랙팬서  "
      ]
     },
     "execution_count": 281,
     "metadata": {},
     "output_type": "execute_result"
    }
   ],
   "source": [
    "data.tail()"
   ]
  },
  {
   "cell_type": "markdown",
   "id": "029c9f4f",
   "metadata": {},
   "source": [
    "### 정규표현식"
   ]
  },
  {
   "cell_type": "code",
   "execution_count": 282,
   "id": "fd9ea7ca",
   "metadata": {
    "scrolled": false
   },
   "outputs": [
    {
     "data": {
      "text/html": [
       "<div>\n",
       "<style scoped>\n",
       "    .dataframe tbody tr th:only-of-type {\n",
       "        vertical-align: middle;\n",
       "    }\n",
       "\n",
       "    .dataframe tbody tr th {\n",
       "        vertical-align: top;\n",
       "    }\n",
       "\n",
       "    .dataframe thead th {\n",
       "        text-align: right;\n",
       "    }\n",
       "</style>\n",
       "<table border=\"1\" class=\"dataframe\">\n",
       "  <thead>\n",
       "    <tr style=\"text-align: right;\">\n",
       "      <th></th>\n",
       "      <th>Unnamed: 0</th>\n",
       "      <th>name</th>\n",
       "      <th>num</th>\n",
       "      <th>review</th>\n",
       "    </tr>\n",
       "  </thead>\n",
       "  <tbody>\n",
       "    <tr>\n",
       "      <th>9994</th>\n",
       "      <td>9994</td>\n",
       "      <td>블랙 팬서</td>\n",
       "      <td>10</td>\n",
       "      <td>나의 영원한 왕 영원한 히어로  이제 하늘을 지키기위해 갔다고 생각할래요   와칸다...</td>\n",
       "    </tr>\n",
       "    <tr>\n",
       "      <th>9996</th>\n",
       "      <td>9996</td>\n",
       "      <td>블랙 팬서</td>\n",
       "      <td>10</td>\n",
       "      <td>와칸다의 왕  그의 죽음은 끝이 아니길</td>\n",
       "    </tr>\n",
       "    <tr>\n",
       "      <th>9997</th>\n",
       "      <td>9997</td>\n",
       "      <td>블랙 팬서</td>\n",
       "      <td>10</td>\n",
       "      <td>와칸다 포에버   당신이 떠났어도 왕국을 지키겠습니다</td>\n",
       "    </tr>\n",
       "    <tr>\n",
       "      <th>9998</th>\n",
       "      <td>9998</td>\n",
       "      <td>블랙 팬서</td>\n",
       "      <td>10</td>\n",
       "      <td>처음 볼 때는 그저 재미있는 영화라고 생각을 하였습니다  그런데 암 투병 중에 촬영...</td>\n",
       "    </tr>\n",
       "    <tr>\n",
       "      <th>9999</th>\n",
       "      <td>9999</td>\n",
       "      <td>블랙 팬서</td>\n",
       "      <td>10</td>\n",
       "      <td>R I P 채드윅  영원한 블랙팬서</td>\n",
       "    </tr>\n",
       "  </tbody>\n",
       "</table>\n",
       "</div>"
      ],
      "text/plain": [
       "      Unnamed: 0   name  num  \\\n",
       "9994        9994  블랙 팬서   10   \n",
       "9996        9996  블랙 팬서   10   \n",
       "9997        9997  블랙 팬서   10   \n",
       "9998        9998  블랙 팬서   10   \n",
       "9999        9999  블랙 팬서   10   \n",
       "\n",
       "                                                 review  \n",
       "9994  나의 영원한 왕 영원한 히어로  이제 하늘을 지키기위해 갔다고 생각할래요   와칸다...  \n",
       "9996                            와칸다의 왕  그의 죽음은 끝이 아니길    \n",
       "9997                      와칸다 포에버   당신이 떠났어도 왕국을 지키겠습니다  \n",
       "9998  처음 볼 때는 그저 재미있는 영화라고 생각을 하였습니다  그런데 암 투병 중에 촬영...  \n",
       "9999                                R I P 채드윅  영원한 블랙팬서  "
      ]
     },
     "execution_count": 282,
     "metadata": {},
     "output_type": "execute_result"
    }
   ],
   "source": [
    "# 특수문자 제거\n",
    "data['review'] = data['review'].apply(lambda x : re.sub(r'[^ A-Za-z0-9가-힣+]', \" \", x))\n",
    "# data['review'] = data['review'].apply(lambda x : re.sub(r[^ ㄱ-ㅣ가-힣]+', \" \", x))\n",
    "data.tail()"
   ]
  },
  {
   "cell_type": "markdown",
   "id": "53ad1b37",
   "metadata": {},
   "source": [
    "### data 공백(whitespace)만 있거나 빈 값을 가진 행이 있다면 Null 값으로 변경하도록 하고, Null 값이 존재하는지 확인"
   ]
  },
  {
   "cell_type": "code",
   "execution_count": 283,
   "id": "630589cb",
   "metadata": {
    "scrolled": true
   },
   "outputs": [
    {
     "name": "stdout",
     "output_type": "stream",
     "text": [
      "Unnamed: 0    0\n",
      "name          0\n",
      "num           0\n",
      "review        9\n",
      "dtype: int64\n"
     ]
    },
    {
     "name": "stderr",
     "output_type": "stream",
     "text": [
      "C:\\Users\\lyj\\AppData\\Local\\Temp/ipykernel_19600/1711523902.py:1: FutureWarning: The default value of regex will change from True to False in a future version.\n",
      "  data['review'] = data['review'].str.replace('^ +', \"\") # white space 데이터를 empty value로 변경\n"
     ]
    }
   ],
   "source": [
    "data['review'] = data['review'].str.replace('^ +', \"\") # white space 데이터를 empty value로 변경\n",
    "data['review'].replace('', np.nan, inplace=True)\n",
    "print(data.isnull().sum())"
   ]
  },
  {
   "cell_type": "code",
   "execution_count": 284,
   "id": "2b9468f2",
   "metadata": {},
   "outputs": [
    {
     "data": {
      "text/html": [
       "<div>\n",
       "<style scoped>\n",
       "    .dataframe tbody tr th:only-of-type {\n",
       "        vertical-align: middle;\n",
       "    }\n",
       "\n",
       "    .dataframe tbody tr th {\n",
       "        vertical-align: top;\n",
       "    }\n",
       "\n",
       "    .dataframe thead th {\n",
       "        text-align: right;\n",
       "    }\n",
       "</style>\n",
       "<table border=\"1\" class=\"dataframe\">\n",
       "  <thead>\n",
       "    <tr style=\"text-align: right;\">\n",
       "      <th></th>\n",
       "      <th>Unnamed: 0</th>\n",
       "      <th>name</th>\n",
       "      <th>num</th>\n",
       "      <th>review</th>\n",
       "    </tr>\n",
       "  </thead>\n",
       "  <tbody>\n",
       "    <tr>\n",
       "      <th>225</th>\n",
       "      <td>225</td>\n",
       "      <td>신과함께-죄와 벌</td>\n",
       "      <td>10</td>\n",
       "      <td>NaN</td>\n",
       "    </tr>\n",
       "    <tr>\n",
       "      <th>312</th>\n",
       "      <td>312</td>\n",
       "      <td>국제시장</td>\n",
       "      <td>10</td>\n",
       "      <td>NaN</td>\n",
       "    </tr>\n",
       "    <tr>\n",
       "      <th>1668</th>\n",
       "      <td>1668</td>\n",
       "      <td>택시운전사</td>\n",
       "      <td>1</td>\n",
       "      <td>NaN</td>\n",
       "    </tr>\n",
       "    <tr>\n",
       "      <th>2878</th>\n",
       "      <td>2878</td>\n",
       "      <td>검사외전</td>\n",
       "      <td>8</td>\n",
       "      <td>NaN</td>\n",
       "    </tr>\n",
       "    <tr>\n",
       "      <th>3321</th>\n",
       "      <td>3321</td>\n",
       "      <td>캡틴 아메리카: 시빌 워</td>\n",
       "      <td>9</td>\n",
       "      <td>NaN</td>\n",
       "    </tr>\n",
       "  </tbody>\n",
       "</table>\n",
       "</div>"
      ],
      "text/plain": [
       "      Unnamed: 0           name  num review\n",
       "225          225      신과함께-죄와 벌   10    NaN\n",
       "312          312           국제시장   10    NaN\n",
       "1668        1668          택시운전사    1    NaN\n",
       "2878        2878           검사외전    8    NaN\n",
       "3321        3321  캡틴 아메리카: 시빌 워    9    NaN"
      ]
     },
     "execution_count": 284,
     "metadata": {},
     "output_type": "execute_result"
    }
   ],
   "source": [
    "data.loc[data.review.isnull()][:5]"
   ]
  },
  {
   "cell_type": "markdown",
   "id": "f329c6be",
   "metadata": {},
   "source": [
    "### 의미 없는 데이터이므로 지우기"
   ]
  },
  {
   "cell_type": "code",
   "execution_count": 285,
   "id": "ebd21844",
   "metadata": {},
   "outputs": [
    {
     "name": "stdout",
     "output_type": "stream",
     "text": [
      "8921\n"
     ]
    }
   ],
   "source": [
    "data = data.dropna(how = 'any')\n",
    "print(len(data))"
   ]
  },
  {
   "cell_type": "markdown",
   "id": "e514396f",
   "metadata": {},
   "source": [
    "### 데이터 다시 처리하기"
   ]
  },
  {
   "cell_type": "code",
   "execution_count": 286,
   "id": "9427dc63",
   "metadata": {},
   "outputs": [
    {
     "name": "stdout",
     "output_type": "stream",
     "text": [
      "전처리 후 테스트용 샘플의 개수 : 8627\n"
     ]
    },
    {
     "name": "stderr",
     "output_type": "stream",
     "text": [
      "C:\\Users\\lyj\\AppData\\Local\\Temp/ipykernel_19600/724760334.py:2: FutureWarning: The default value of regex will change from True to False in a future version.\n",
      "  data['review'] = data['review'].str.replace(\"[^ㄱ-ㅎㅏ-ㅣ가-힣 ]\",\"\") # 정규 표현식 수행\n",
      "C:\\Users\\lyj\\AppData\\Local\\Temp/ipykernel_19600/724760334.py:3: FutureWarning: The default value of regex will change from True to False in a future version.\n",
      "  data['review'] = data['review'].str.replace('^ +', \"\") # 공백은 empty 값으로 변경\n"
     ]
    }
   ],
   "source": [
    "data.drop_duplicates(subset = ['review'], inplace=True) # document 열에서 중복인 내용이 있다면 중복 제거\n",
    "data['review'] = data['review'].str.replace(\"[^ㄱ-ㅎㅏ-ㅣ가-힣 ]\",\"\") # 정규 표현식 수행\n",
    "data['review'] = data['review'].str.replace('^ +', \"\") # 공백은 empty 값으로 변경\n",
    "data['review'].replace('', np.nan, inplace=True) # 공백은 Null 값으로 변경\n",
    "data = data.dropna(how='any') # Null 값 제거\n",
    "print('전처리 후 테스트용 샘플의 개수 :',len(data))"
   ]
  },
  {
   "cell_type": "code",
   "execution_count": 287,
   "id": "73ceb080",
   "metadata": {},
   "outputs": [
    {
     "data": {
      "text/html": [
       "<div>\n",
       "<style scoped>\n",
       "    .dataframe tbody tr th:only-of-type {\n",
       "        vertical-align: middle;\n",
       "    }\n",
       "\n",
       "    .dataframe tbody tr th {\n",
       "        vertical-align: top;\n",
       "    }\n",
       "\n",
       "    .dataframe thead th {\n",
       "        text-align: right;\n",
       "    }\n",
       "</style>\n",
       "<table border=\"1\" class=\"dataframe\">\n",
       "  <thead>\n",
       "    <tr style=\"text-align: right;\">\n",
       "      <th></th>\n",
       "      <th>Unnamed: 0</th>\n",
       "      <th>name</th>\n",
       "      <th>num</th>\n",
       "      <th>review</th>\n",
       "    </tr>\n",
       "  </thead>\n",
       "  <tbody>\n",
       "    <tr>\n",
       "      <th>0</th>\n",
       "      <td>0</td>\n",
       "      <td>명량</td>\n",
       "      <td>10</td>\n",
       "      <td>역대 대명작이라 자부합니다</td>\n",
       "    </tr>\n",
       "    <tr>\n",
       "      <th>1</th>\n",
       "      <td>1</td>\n",
       "      <td>명량</td>\n",
       "      <td>10</td>\n",
       "      <td>진짜 이건 우리나라 영화계에 한 획을 그을 정도에 명작입니다 우리가 역사를 배워야 ...</td>\n",
       "    </tr>\n",
       "    <tr>\n",
       "      <th>2</th>\n",
       "      <td>2</td>\n",
       "      <td>명량</td>\n",
       "      <td>3</td>\n",
       "      <td>국뽕 범벅  거품  스크린독점 관객동원</td>\n",
       "    </tr>\n",
       "    <tr>\n",
       "      <th>3</th>\n",
       "      <td>3</td>\n",
       "      <td>명량</td>\n",
       "      <td>10</td>\n",
       "      <td>초등 고학년 아들과 진도에 다녀온후 같이 봣는데 정말 감사하고 감동이며 죄송스러운 ...</td>\n",
       "    </tr>\n",
       "    <tr>\n",
       "      <th>4</th>\n",
       "      <td>4</td>\n",
       "      <td>명량</td>\n",
       "      <td>10</td>\n",
       "      <td>깊게 숨을 들이쉬고 후하고 내뱉은 뒤  이 영화를 보아라  다보고 나서 이틀 뒤에 ...</td>\n",
       "    </tr>\n",
       "    <tr>\n",
       "      <th>...</th>\n",
       "      <td>...</td>\n",
       "      <td>...</td>\n",
       "      <td>...</td>\n",
       "      <td>...</td>\n",
       "    </tr>\n",
       "    <tr>\n",
       "      <th>8622</th>\n",
       "      <td>9994</td>\n",
       "      <td>블랙 팬서</td>\n",
       "      <td>10</td>\n",
       "      <td>나의 영원한 왕 영원한 히어로  이제 하늘을 지키기위해 갔다고 생각할래요   와칸다...</td>\n",
       "    </tr>\n",
       "    <tr>\n",
       "      <th>8623</th>\n",
       "      <td>9996</td>\n",
       "      <td>블랙 팬서</td>\n",
       "      <td>10</td>\n",
       "      <td>와칸다의 왕  그의 죽음은 끝이 아니길</td>\n",
       "    </tr>\n",
       "    <tr>\n",
       "      <th>8624</th>\n",
       "      <td>9997</td>\n",
       "      <td>블랙 팬서</td>\n",
       "      <td>10</td>\n",
       "      <td>와칸다 포에버   당신이 떠났어도 왕국을 지키겠습니다</td>\n",
       "    </tr>\n",
       "    <tr>\n",
       "      <th>8625</th>\n",
       "      <td>9998</td>\n",
       "      <td>블랙 팬서</td>\n",
       "      <td>10</td>\n",
       "      <td>처음 볼 때는 그저 재미있는 영화라고 생각을 하였습니다  그런데 암 투병 중에 촬영...</td>\n",
       "    </tr>\n",
       "    <tr>\n",
       "      <th>8626</th>\n",
       "      <td>9999</td>\n",
       "      <td>블랙 팬서</td>\n",
       "      <td>10</td>\n",
       "      <td>채드윅  영원한 블랙팬서</td>\n",
       "    </tr>\n",
       "  </tbody>\n",
       "</table>\n",
       "<p>8627 rows × 4 columns</p>\n",
       "</div>"
      ],
      "text/plain": [
       "      Unnamed: 0   name  num  \\\n",
       "0              0     명량   10   \n",
       "1              1     명량   10   \n",
       "2              2     명량    3   \n",
       "3              3     명량   10   \n",
       "4              4     명량   10   \n",
       "...          ...    ...  ...   \n",
       "8622        9994  블랙 팬서   10   \n",
       "8623        9996  블랙 팬서   10   \n",
       "8624        9997  블랙 팬서   10   \n",
       "8625        9998  블랙 팬서   10   \n",
       "8626        9999  블랙 팬서   10   \n",
       "\n",
       "                                                 review  \n",
       "0                                      역대 대명작이라 자부합니다    \n",
       "1     진짜 이건 우리나라 영화계에 한 획을 그을 정도에 명작입니다 우리가 역사를 배워야 ...  \n",
       "2                                 국뽕 범벅  거품  스크린독점 관객동원  \n",
       "3     초등 고학년 아들과 진도에 다녀온후 같이 봣는데 정말 감사하고 감동이며 죄송스러운 ...  \n",
       "4     깊게 숨을 들이쉬고 후하고 내뱉은 뒤  이 영화를 보아라  다보고 나서 이틀 뒤에 ...  \n",
       "...                                                 ...  \n",
       "8622  나의 영원한 왕 영원한 히어로  이제 하늘을 지키기위해 갔다고 생각할래요   와칸다...  \n",
       "8623                            와칸다의 왕  그의 죽음은 끝이 아니길    \n",
       "8624                      와칸다 포에버   당신이 떠났어도 왕국을 지키겠습니다  \n",
       "8625  처음 볼 때는 그저 재미있는 영화라고 생각을 하였습니다  그런데 암 투병 중에 촬영...  \n",
       "8626                                      채드윅  영원한 블랙팬서  \n",
       "\n",
       "[8627 rows x 4 columns]"
      ]
     },
     "execution_count": 287,
     "metadata": {},
     "output_type": "execute_result"
    }
   ],
   "source": [
    "data = data.reset_index(drop = True)\n",
    "data"
   ]
  },
  {
   "cell_type": "markdown",
   "id": "8d19b429",
   "metadata": {},
   "source": [
    "### X, y 데이터 분할"
   ]
  },
  {
   "cell_type": "code",
   "execution_count": 288,
   "id": "a29b60af",
   "metadata": {},
   "outputs": [],
   "source": [
    "data_X = data['review']\n",
    "data_Y = data['num']"
   ]
  },
  {
   "cell_type": "code",
   "execution_count": 289,
   "id": "cd2bfe98",
   "metadata": {},
   "outputs": [
    {
     "data": {
      "text/plain": [
       "0                                     역대 대명작이라 자부합니다  \n",
       "1    진짜 이건 우리나라 영화계에 한 획을 그을 정도에 명작입니다 우리가 역사를 배워야 ...\n",
       "2                                국뽕 범벅  거품  스크린독점 관객동원\n",
       "3    초등 고학년 아들과 진도에 다녀온후 같이 봣는데 정말 감사하고 감동이며 죄송스러운 ...\n",
       "4    깊게 숨을 들이쉬고 후하고 내뱉은 뒤  이 영화를 보아라  다보고 나서 이틀 뒤에 ...\n",
       "Name: review, dtype: object"
      ]
     },
     "execution_count": 289,
     "metadata": {},
     "output_type": "execute_result"
    }
   ],
   "source": [
    "data_X.head()"
   ]
  },
  {
   "cell_type": "code",
   "execution_count": 290,
   "id": "2a990ab6",
   "metadata": {},
   "outputs": [
    {
     "name": "stdout",
     "output_type": "stream",
     "text": [
      "(8627,)\n",
      "(8627,)\n"
     ]
    }
   ],
   "source": [
    "print(data_X.shape)\n",
    "print(data_Y.shape)"
   ]
  },
  {
   "cell_type": "code",
   "execution_count": 291,
   "id": "a5ec1203",
   "metadata": {},
   "outputs": [],
   "source": [
    "data_X = data_X.astype(str)"
   ]
  },
  {
   "cell_type": "markdown",
   "id": "9f2c5115",
   "metadata": {},
   "source": [
    "### 형태소 분석"
   ]
  },
  {
   "cell_type": "markdown",
   "id": "580d85fd",
   "metadata": {},
   "source": [
    "#### Komoran"
   ]
  },
  {
   "cell_type": "code",
   "execution_count": 293,
   "id": "994803e4",
   "metadata": {},
   "outputs": [],
   "source": [
    "from konlpy.tag import Komoran"
   ]
  },
  {
   "cell_type": "code",
   "execution_count": 294,
   "id": "c497c997",
   "metadata": {},
   "outputs": [],
   "source": [
    "# Komoran 객체 생성하기\n",
    "komoran = Komoran()"
   ]
  },
  {
   "cell_type": "code",
   "execution_count": 295,
   "id": "f8d09492",
   "metadata": {},
   "outputs": [],
   "source": [
    "# 불용어 파일\n",
    "stop = pd.read_csv('./한국어불용어100.txt', sep = '\\t', encoding = 'utf-8')\n",
    "\n",
    "# 불용어 리스트 생성\n",
    "stopwords = stop['불용어'].tolist()"
   ]
  },
  {
   "cell_type": "code",
   "execution_count": 296,
   "id": "adc6404d",
   "metadata": {},
   "outputs": [],
   "source": [
    "# 명사만 추출하기\n",
    "k_pos = []\n",
    "\n",
    "for data in data_X:\n",
    "    k_pos_data = komoran.nouns(data)\n",
    "    \n",
    "    # 불용어 제거\n",
    "    result_list = [word for word in k_pos_data if not word in stopwords]\n",
    "    \n",
    "    k_pos.append(result_list)"
   ]
  },
  {
   "cell_type": "markdown",
   "id": "346998bd",
   "metadata": {},
   "source": [
    "### 빈도 분석"
   ]
  },
  {
   "cell_type": "code",
   "execution_count": 300,
   "id": "5a5acf67",
   "metadata": {},
   "outputs": [],
   "source": [
    "from nltk import FreqDist"
   ]
  },
  {
   "cell_type": "code",
   "execution_count": 301,
   "id": "4f8131fa",
   "metadata": {},
   "outputs": [],
   "source": [
    "# 단어 집합(vocabulary) 만들기\n",
    "word_list = []\n",
    "\n",
    "# 단어만 추출\n",
    "for tokens in k_pos:\n",
    "    for t in tokens:\n",
    "        word_list.append(t)"
   ]
  },
  {
   "cell_type": "code",
   "execution_count": null,
   "id": "9516fc27",
   "metadata": {},
   "outputs": [],
   "source": [
    "fd_names = FreqDist(word_list)\n",
    "\n",
    "#fd_names.most_common(500)\n",
    "# 상위 500개 검색 후 500번째의 value : 20인 것 확인"
   ]
  },
  {
   "cell_type": "code",
   "execution_count": 303,
   "id": "e2ab9f11",
   "metadata": {},
   "outputs": [],
   "source": [
    "dict_fd = fd_names.items()\n",
    "\n",
    "for dict in dict_fd:\n",
    "    key = dict[0]\n",
    "    val = dict[1]\n",
    "    if val < 20: # 빈도수 20번 미만인거 지우기,,(상위 500개로 검색 결과 빈도수 20번 이었음.)\n",
    "        for pos in k_pos:\n",
    "            if key in pos:\n",
    "                pos.remove(key)"
   ]
  },
  {
   "cell_type": "code",
   "execution_count": 304,
   "id": "940efeeb",
   "metadata": {
    "scrolled": true
   },
   "outputs": [
    {
     "data": {
      "text/plain": [
       "8627"
      ]
     },
     "execution_count": 304,
     "metadata": {},
     "output_type": "execute_result"
    }
   ],
   "source": [
    "len(k_pos)"
   ]
  },
  {
   "cell_type": "code",
   "execution_count": null,
   "id": "cb6564e0",
   "metadata": {},
   "outputs": [],
   "source": [
    "res = []\n",
    "for i, x in enumerate(k_pos):\n",
    "    if len(x) == 0:\n",
    "        res.append(i)"
   ]
  },
  {
   "cell_type": "markdown",
   "id": "cea6af46",
   "metadata": {},
   "source": [
    "#### 빈값 지우기"
   ]
  },
  {
   "cell_type": "code",
   "execution_count": 306,
   "id": "2fc399a5",
   "metadata": {},
   "outputs": [
    {
     "name": "stdout",
     "output_type": "stream",
     "text": [
      "8627\n",
      "(8627,)\n"
     ]
    }
   ],
   "source": [
    "print(len(k_pos))\n",
    "print(data_Y.shape)"
   ]
  },
  {
   "cell_type": "code",
   "execution_count": 307,
   "id": "72206980",
   "metadata": {},
   "outputs": [],
   "source": [
    "k_pos = np.asarray(k_pos)\n",
    "data_Y = np.asarray(data_Y)"
   ]
  },
  {
   "cell_type": "code",
   "execution_count": 308,
   "id": "af81dc2f",
   "metadata": {},
   "outputs": [],
   "source": [
    "k_pos = np.delete(k_pos, res, axis = 0)\n",
    "data_Y = np.delete(data_Y, res, axis = 0)"
   ]
  },
  {
   "cell_type": "code",
   "execution_count": 310,
   "id": "710ba4c8",
   "metadata": {
    "scrolled": false
   },
   "outputs": [
    {
     "data": {
      "text/plain": [
       "7889"
      ]
     },
     "execution_count": 310,
     "metadata": {},
     "output_type": "execute_result"
    }
   ],
   "source": [
    "len(k_pos)"
   ]
  },
  {
   "cell_type": "code",
   "execution_count": 311,
   "id": "3ef64472",
   "metadata": {},
   "outputs": [
    {
     "data": {
      "text/plain": [
       "(7889,)"
      ]
     },
     "execution_count": 311,
     "metadata": {},
     "output_type": "execute_result"
    }
   ],
   "source": [
    "data_Y.shape"
   ]
  },
  {
   "cell_type": "markdown",
   "id": "cfc19664",
   "metadata": {},
   "source": [
    "### Tokenizer"
   ]
  },
  {
   "cell_type": "code",
   "execution_count": 314,
   "id": "c429986f",
   "metadata": {},
   "outputs": [],
   "source": [
    "from keras.preprocessing.text import Tokenizer \n",
    "\n",
    "# tokenizer = Tokenizer(oov_token = \"<oov>\") \n",
    "tokenizer = Tokenizer()  \n",
    "tokenizer.fit_on_texts(k_pos)\n",
    "sequences = tokenizer.texts_to_sequences(k_pos)\n",
    "\n",
    "word_index = tokenizer.word_index"
   ]
  },
  {
   "cell_type": "code",
   "execution_count": 315,
   "id": "a5c6fc0b",
   "metadata": {
    "scrolled": false
   },
   "outputs": [
    {
     "data": {
      "text/plain": [
       "7889"
      ]
     },
     "execution_count": 315,
     "metadata": {},
     "output_type": "execute_result"
    }
   ],
   "source": [
    "len(sequences)"
   ]
  },
  {
   "cell_type": "code",
   "execution_count": 318,
   "id": "df4d05a5",
   "metadata": {},
   "outputs": [
    {
     "name": "stdout",
     "output_type": "stream",
     "text": [
      "85\n"
     ]
    }
   ],
   "source": [
    "max_len = 0\n",
    "for l in sequences:\n",
    "    if len(l) >= max_len:\n",
    "        max_len = len(l)\n",
    "print(max_len)"
   ]
  },
  {
   "cell_type": "code",
   "execution_count": 319,
   "id": "923f798f",
   "metadata": {},
   "outputs": [],
   "source": [
    "import matplotlib.pyplot as plt"
   ]
  },
  {
   "cell_type": "code",
   "execution_count": 320,
   "id": "0734568a",
   "metadata": {},
   "outputs": [
    {
     "name": "stdout",
     "output_type": "stream",
     "text": [
      "리뷰의 최대 길이 : 85\n",
      "리뷰의 평균 길이 : 4.660666751172519\n"
     ]
    },
    {
     "data": {
      "image/png": "[encoded data removed]",
      "text/plain": [
       "<Figure size 432x288 with 1 Axes>"
      ]
     },
     "metadata": {
      "needs_background": "light"
     },
     "output_type": "display_data"
    }
   ],
   "source": [
    "print('리뷰의 최대 길이 : {}'.format(max_len))\n",
    "print('리뷰의 평균 길이 : {}'.format(sum(map(len, sequences)) / len(sequences))) \n",
    "\n",
    "plt.hist([len(s) for s in sequences], bins = 50)\n",
    "plt.xlabel('length of Data') \n",
    "plt.ylabel('number of Data') \n",
    "plt.show()"
   ]
  },
  {
   "cell_type": "code",
   "execution_count": 321,
   "id": "74aa2912",
   "metadata": {},
   "outputs": [],
   "source": [
    "from keras.datasets import reuters \n",
    "from keras.models import Sequential \n",
    "from keras.layers import Dense, LSTM, Embedding \n",
    "from keras.preprocessing import sequence \n",
    "from keras.preprocessing.sequence import pad_sequences\n",
    "from keras.utils import np_utils"
   ]
  },
  {
   "cell_type": "code",
   "execution_count": 322,
   "id": "20bcab39",
   "metadata": {},
   "outputs": [
    {
     "name": "stdout",
     "output_type": "stream",
     "text": [
      "1\n",
      "10\n"
     ]
    }
   ],
   "source": [
    "print(np.min(data_Y))\n",
    "print(np.max(data_Y))"
   ]
  },
  {
   "cell_type": "code",
   "execution_count": 323,
   "id": "7243d03a",
   "metadata": {},
   "outputs": [
    {
     "name": "stdout",
     "output_type": "stream",
     "text": [
      "max_len :  85\n"
     ]
    }
   ],
   "source": [
    "print(\"max_len : \", max_len)"
   ]
  },
  {
   "cell_type": "code",
   "execution_count": 324,
   "id": "80a64eff",
   "metadata": {},
   "outputs": [],
   "source": [
    "X = pad_sequences(sequences, maxlen = 6, truncating = 'post')\n",
    "y = np_utils.to_categorical(data_Y)"
   ]
  },
  {
   "cell_type": "code",
   "execution_count": 325,
   "id": "c921a776",
   "metadata": {
    "scrolled": true
   },
   "outputs": [
    {
     "data": {
      "text/plain": [
       "array([[  0,   0,   0,   0, 184,  15],\n",
       "       [ 85,  95,   1,  15,  19,  92],\n",
       "       [  0,   0,   0, 217, 218, 100],\n",
       "       ...,\n",
       "       [  0,   0,   0,   0,   0, 358],\n",
       "       [ 22,   1, 303,  71,  31,  98],\n",
       "       [  0,   0,   0,   0, 483, 129]])"
      ]
     },
     "execution_count": 325,
     "metadata": {},
     "output_type": "execute_result"
    }
   ],
   "source": [
    "X"
   ]
  },
  {
   "cell_type": "code",
   "execution_count": 326,
   "id": "b76abc2c",
   "metadata": {
    "scrolled": true
   },
   "outputs": [
    {
     "name": "stdout",
     "output_type": "stream",
     "text": [
      "[[0. 0. 0. ... 0. 0. 1.]\n",
      " [0. 0. 0. ... 0. 0. 1.]\n",
      " [0. 0. 0. ... 0. 0. 0.]\n",
      " ...\n",
      " [0. 0. 0. ... 0. 0. 1.]\n",
      " [0. 0. 0. ... 0. 0. 1.]\n",
      " [0. 0. 0. ... 0. 0. 1.]]\n"
     ]
    }
   ],
   "source": [
    "print(y)"
   ]
  },
  {
   "cell_type": "code",
   "execution_count": 327,
   "id": "61aa43ce",
   "metadata": {},
   "outputs": [
    {
     "name": "stdout",
     "output_type": "stream",
     "text": [
      "(7889, 6)\n",
      "(7889, 11)\n"
     ]
    }
   ],
   "source": [
    "print(X.shape)\n",
    "print(y.shape)"
   ]
  },
  {
   "cell_type": "markdown",
   "id": "12939de9",
   "metadata": {},
   "source": [
    "### 훈련/테스트용 데이터 분할"
   ]
  },
  {
   "cell_type": "code",
   "execution_count": 328,
   "id": "f6ac2e91",
   "metadata": {},
   "outputs": [],
   "source": [
    "from sklearn.model_selection import train_test_split"
   ]
  },
  {
   "cell_type": "code",
   "execution_count": 329,
   "id": "fdfca56a",
   "metadata": {},
   "outputs": [],
   "source": [
    "X_train, X_test, y_train, y_test = train_test_split(X, y, test_size = 0.2, random_state = 777, stratify = y)"
   ]
  },
  {
   "cell_type": "code",
   "execution_count": 330,
   "id": "ffa333ef",
   "metadata": {},
   "outputs": [],
   "source": [
    "from tensorflow.keras.utils import to_categorical"
   ]
  },
  {
   "cell_type": "code",
   "execution_count": 331,
   "id": "efb26058",
   "metadata": {},
   "outputs": [],
   "source": [
    "X_train = np.asarray(X_train)\n",
    "X_test = np.asarray(X_test)\n",
    "# y_train = np.asarray(to_categorical(y_train))\n",
    "# y_test = np.asarray(to_categorical(y_test))\n",
    "y_train = np.asarray(y_train)\n",
    "y_test = np.asarray(y_test)"
   ]
  },
  {
   "cell_type": "code",
   "execution_count": 332,
   "id": "a5f6250f",
   "metadata": {},
   "outputs": [
    {
     "data": {
      "text/plain": [
       "array([[0., 0., 0., ..., 1., 0., 0.],\n",
       "       [0., 0., 0., ..., 0., 0., 1.],\n",
       "       [0., 0., 0., ..., 0., 0., 0.],\n",
       "       ...,\n",
       "       [0., 0., 0., ..., 0., 0., 1.],\n",
       "       [0., 0., 0., ..., 1., 0., 0.],\n",
       "       [0., 1., 0., ..., 0., 0., 0.]], dtype=float32)"
      ]
     },
     "execution_count": 332,
     "metadata": {},
     "output_type": "execute_result"
    }
   ],
   "source": [
    "y_test"
   ]
  },
  {
   "cell_type": "code",
   "execution_count": 333,
   "id": "2aefb490",
   "metadata": {
    "scrolled": true
   },
   "outputs": [
    {
     "name": "stdout",
     "output_type": "stream",
     "text": [
      "[[0. 0. 0. ... 1. 0. 0.]\n",
      " [0. 0. 0. ... 0. 0. 1.]\n",
      " [0. 0. 0. ... 0. 0. 1.]\n",
      " ...\n",
      " [0. 0. 0. ... 0. 1. 0.]\n",
      " [0. 0. 0. ... 0. 0. 0.]\n",
      " [0. 0. 0. ... 0. 0. 1.]]\n",
      "[[0. 0. 0. ... 1. 0. 0.]\n",
      " [0. 0. 0. ... 0. 0. 1.]\n",
      " [0. 0. 0. ... 0. 0. 0.]\n",
      " ...\n",
      " [0. 0. 0. ... 0. 0. 1.]\n",
      " [0. 0. 0. ... 1. 0. 0.]\n",
      " [1. 0. 0. ... 0. 0. 0.]]\n"
     ]
    }
   ],
   "source": [
    "# 0번째 지우기\n",
    "y_train = y_train[:, 1:]\n",
    "print(y_train)\n",
    "\n",
    "y_test = y_test[:, 1:]\n",
    "print(y_test)"
   ]
  },
  {
   "cell_type": "code",
   "execution_count": 334,
   "id": "99f2e99a",
   "metadata": {
    "scrolled": true
   },
   "outputs": [
    {
     "name": "stdout",
     "output_type": "stream",
     "text": [
      "(6311, 6)\n",
      "(6311, 10)\n",
      "(1578, 6)\n",
      "(1578, 10)\n"
     ]
    }
   ],
   "source": [
    "print(X_train.shape)\n",
    "print(y_train.shape)\n",
    "print(X_test.shape)\n",
    "print(y_test.shape)"
   ]
  },
  {
   "cell_type": "code",
   "execution_count": 335,
   "id": "c0d9b8a9",
   "metadata": {},
   "outputs": [
    {
     "data": {
      "text/plain": [
       "array([[130,  83,  40, 103, 376,  43],\n",
       "       [  0,   6,  61,   4, 359,   1],\n",
       "       [ 50, 105,  85,  87, 106, 367],\n",
       "       ...,\n",
       "       [  0,   0,   0,   1, 464,   1],\n",
       "       [ 23,   3,   6,  13,  44,   5],\n",
       "       [  0,   0,   0,   0,   0,   6]])"
      ]
     },
     "execution_count": 335,
     "metadata": {},
     "output_type": "execute_result"
    }
   ],
   "source": [
    "X_train"
   ]
  },
  {
   "cell_type": "markdown",
   "id": "8a854f06",
   "metadata": {},
   "source": [
    "## 모델 구축"
   ]
  },
  {
   "cell_type": "markdown",
   "id": "daf4edd7",
   "metadata": {},
   "source": [
    "### 인공신경망을 제작합니다."
   ]
  },
  {
   "cell_type": "code",
   "execution_count": 336,
   "id": "735c3f18",
   "metadata": {},
   "outputs": [],
   "source": [
    "from tensorflow.keras.layers import Dense, GRU, Embedding"
   ]
  },
  {
   "cell_type": "code",
   "execution_count": 337,
   "id": "63008f4c",
   "metadata": {},
   "outputs": [],
   "source": [
    "embedding_dim = 6\n",
    "hidden_units = 512"
   ]
  },
  {
   "cell_type": "code",
   "execution_count": 338,
   "id": "d14429dd",
   "metadata": {},
   "outputs": [
    {
     "name": "stdout",
     "output_type": "stream",
     "text": [
      "1388\n"
     ]
    }
   ],
   "source": [
    "vocab_size = len(word_index)\n",
    "print(vocab_size)"
   ]
  },
  {
   "cell_type": "markdown",
   "id": "651c015f",
   "metadata": {},
   "source": [
    "#### LSTM -> GRU"
   ]
  },
  {
   "cell_type": "code",
   "execution_count": 397,
   "id": "b3d09747",
   "metadata": {},
   "outputs": [],
   "source": [
    "model = Sequential()\n",
    "model.add(Embedding(vocab_size + 1, embedding_dim))\n",
    "model.add(GRU(hidden_units))\n",
    "# model.add(LSTM(6))\n",
    "model.add(Dense(10, activation = 'softmax'))"
   ]
  },
  {
   "cell_type": "markdown",
   "id": "8f5aa8ac",
   "metadata": {},
   "source": [
    "#### 컴파일"
   ]
  },
  {
   "cell_type": "code",
   "execution_count": 398,
   "id": "3b490e52",
   "metadata": {},
   "outputs": [],
   "source": [
    "model.compile(optimizer = 'rmsprop', loss = 'categorical_crossentropy',  metrics = ['accuracy'])"
   ]
  },
  {
   "cell_type": "markdown",
   "id": "22dec6d6",
   "metadata": {},
   "source": [
    "#### 신경망 학습시키기"
   ]
  },
  {
   "cell_type": "code",
   "execution_count": 399,
   "id": "d558d86d",
   "metadata": {},
   "outputs": [],
   "source": [
    "early_stop = keras.callbacks.EarlyStopping(monitor = 'val_loss', patience = 10)"
   ]
  },
  {
   "cell_type": "code",
   "execution_count": 400,
   "id": "bc9b7e09",
   "metadata": {},
   "outputs": [
    {
     "name": "stdout",
     "output_type": "stream",
     "text": [
      "Epoch 1/6\n",
      "198/198 [==============================] - 6s 24ms/step - loss: 1.4797 - accuracy: 0.6023 - val_loss: 1.3931 - val_accuracy: 0.6046\n",
      "Epoch 2/6\n",
      "198/198 [==============================] - 4s 21ms/step - loss: 1.3582 - accuracy: 0.6089 - val_loss: 1.3652 - val_accuracy: 0.6147\n",
      "Epoch 3/6\n",
      "198/198 [==============================] - 5s 23ms/step - loss: 1.3170 - accuracy: 0.6153 - val_loss: 1.3467 - val_accuracy: 0.6160\n",
      "Epoch 4/6\n",
      "198/198 [==============================] - 4s 22ms/step - loss: 1.2964 - accuracy: 0.6199 - val_loss: 1.4189 - val_accuracy: 0.6160\n",
      "Epoch 5/6\n",
      "198/198 [==============================] - 4s 22ms/step - loss: 1.2863 - accuracy: 0.6230 - val_loss: 1.3503 - val_accuracy: 0.6134\n",
      "Epoch 6/6\n",
      "198/198 [==============================] - 4s 21ms/step - loss: 1.2779 - accuracy: 0.6235 - val_loss: 1.3509 - val_accuracy: 0.6204\n"
     ]
    }
   ],
   "source": [
    "history = model.fit(X_train, y_train, epochs = 6,\n",
    "                   validation_data = (X_test, y_test),\n",
    "                   callbacks = [early_stop])"
   ]
  },
  {
   "cell_type": "markdown",
   "id": "97edf3d5",
   "metadata": {},
   "source": [
    "### 모델 성능 그래프로 출력"
   ]
  },
  {
   "cell_type": "code",
   "execution_count": 403,
   "id": "bc7aa9ab",
   "metadata": {},
   "outputs": [
    {
     "data": {
      "text/plain": [
       "[<matplotlib.lines.Line2D at 0x1ce9bb9e760>]"
      ]
     },
     "execution_count": 403,
     "metadata": {},
     "output_type": "execute_result"
    },
    {
     "data": {
      "image/png": "[encoded data removed]",
      "text/plain": [
       "<Figure size 576x576 with 1 Axes>"
      ]
     },
     "metadata": {
      "needs_background": "light"
     },
     "output_type": "display_data"
    },
    {
     "data": {
      "image/png": "[encoded data removed]",
      "text/plain": [
       "<Figure size 576x576 with 1 Axes>"
      ]
     },
     "metadata": {
      "needs_background": "light"
     },
     "output_type": "display_data"
    }
   ],
   "source": [
    "train_history = history.history[\"loss\"]\n",
    "validation_history = history.history[\"val_loss\"]\n",
    "fig = plt.figure(figsize=(8, 8))\n",
    "plt.title(\"Loss History\")\n",
    "plt.xlabel(\"EPOCH\")\n",
    "plt.ylabel(\"LOSS Function\")\n",
    "plt.plot(train_history, \"red\")\n",
    "plt.plot(validation_history, 'blue')\n",
    "# fig.savefig(\"train_history.png\")\n",
    "\n",
    "train_history = history.history[\"accuracy\"]\n",
    "validation_history = history.history[\"val_accuracy\"]\n",
    "fig = plt.figure(figsize=(8, 8))\n",
    "plt.title(\"Accuracy History\")\n",
    "plt.xlabel(\"EPOCH\")\n",
    "plt.ylabel(\"Accuracy\")\n",
    "plt.plot(train_history, \"red\")\n",
    "plt.plot(validation_history, 'blue')\n",
    "# fig.savefig(\"accuracy_history.png\")"
   ]
  },
  {
   "cell_type": "code",
   "execution_count": 223,
   "id": "720ef4c3",
   "metadata": {},
   "outputs": [],
   "source": [
    "model.save('test_model.h5')"
   ]
  },
  {
   "cell_type": "code",
   "execution_count": 346,
   "id": "0535da2e",
   "metadata": {
    "scrolled": true
   },
   "outputs": [
    {
     "name": "stdout",
     "output_type": "stream",
     "text": [
      "50/50 [==============================] - 0s 6ms/step - loss: 1.3715 - accuracy: 0.6204\n"
     ]
    },
    {
     "data": {
      "text/plain": [
       "0.6204055547714233"
      ]
     },
     "execution_count": 346,
     "metadata": {},
     "output_type": "execute_result"
    }
   ],
   "source": [
    "model.evaluate(X_test, y_test)[1]"
   ]
  },
  {
   "cell_type": "markdown",
   "id": "6a20a811",
   "metadata": {},
   "source": [
    "## 평점 테스트"
   ]
  },
  {
   "cell_type": "code",
   "execution_count": 349,
   "id": "f8d9fdf5",
   "metadata": {},
   "outputs": [],
   "source": [
    "text_list = []"
   ]
  },
  {
   "cell_type": "code",
   "execution_count": 350,
   "id": "7c01eeb6",
   "metadata": {},
   "outputs": [],
   "source": [
    "text_list.append(\"한 마디로 ‘치유’의 과정\") # 8점\n",
    "text_list.append(\"감동입니다..너무 재미있어용\") # 걍 내가 쓴거\n",
    "text_list.append(\"최악 !! 다신 안본다.\") # 최악 들어간거 1점이었던듯,,,\n",
    "text_list.append(\"처음엔 좋았으나 갈수록 보기거북함\") # 5점\n",
    "text_list.append(\"사형수는 개뿔, 죄없는 애들 속여서 끌고간거라고! 유족들은 억울함도 못풀었는데….이런식으로 팔아먹었어야 했냐? 감독 진짜 양심 터졌구나.\") # 1점"
   ]
  },
  {
   "cell_type": "code",
   "execution_count": 351,
   "id": "5ac6b811",
   "metadata": {},
   "outputs": [],
   "source": [
    "# 명사만 추출하기\n",
    "text_list_pos = []\n",
    "\n",
    "for text in text_list:\n",
    "    text_list_data = komoran.nouns(text)\n",
    "    \n",
    "    # 불용어 제거\n",
    "    result_list = [word for word in text_list_data if not word in stopwords]\n",
    "    \n",
    "    text_list_pos.append(result_list)"
   ]
  },
  {
   "cell_type": "code",
   "execution_count": 352,
   "id": "5c38b111",
   "metadata": {
    "scrolled": true
   },
   "outputs": [
    {
     "data": {
      "text/plain": [
       "[['마디', '치유', '과정'],\n",
       " ['감동'],\n",
       " ['최악', '!!'],\n",
       " ['처음', '보기', '거북'],\n",
       " ['사형수', '개뿔', '죄', '애', '고간', '거', '유족', '식', '감독', '양심']]"
      ]
     },
     "execution_count": 352,
     "metadata": {},
     "output_type": "execute_result"
    }
   ],
   "source": [
    "text_list_pos"
   ]
  },
  {
   "cell_type": "code",
   "execution_count": 353,
   "id": "db5501c7",
   "metadata": {},
   "outputs": [
    {
     "data": {
      "text/plain": [
       "[[374], [7], [121], [22], [886, 84, 5, 731, 220, 17]]"
      ]
     },
     "execution_count": 353,
     "metadata": {},
     "output_type": "execute_result"
    }
   ],
   "source": [
    "sequences_test = tokenizer.texts_to_sequences(text_list_pos)\n",
    "sequences_test"
   ]
  },
  {
   "cell_type": "code",
   "execution_count": 354,
   "id": "042ae356",
   "metadata": {},
   "outputs": [
    {
     "data": {
      "text/plain": [
       "array([[  0,   0,   0,   0,   0, 374],\n",
       "       [  0,   0,   0,   0,   0,   7],\n",
       "       [  0,   0,   0,   0,   0, 121],\n",
       "       [  0,   0,   0,   0,   0,  22],\n",
       "       [886,  84,   5, 731, 220,  17]])"
      ]
     },
     "execution_count": 354,
     "metadata": {},
     "output_type": "execute_result"
    }
   ],
   "source": [
    "sequences_test = pad_sequences(sequences_test, maxlen = 6)\n",
    "sequences_test"
   ]
  },
  {
   "cell_type": "code",
   "execution_count": 355,
   "id": "6f96b7fe",
   "metadata": {
    "scrolled": false
   },
   "outputs": [
    {
     "data": {
      "text/plain": [
       "array([[2.99953930e-02, 1.62449833e-02, 2.20267801e-03, 1.59081109e-02,\n",
       "        9.01206490e-03, 2.82435417e-02, 3.62185203e-02, 7.80075192e-02,\n",
       "        6.22022673e-02, 7.21964896e-01],\n",
       "       [6.04593288e-03, 3.13408137e-03, 5.23763301e-04, 4.80752345e-03,\n",
       "        2.65386538e-03, 9.01611429e-03, 1.23556638e-02, 3.23352776e-02,\n",
       "        3.94872725e-02, 8.89640510e-01],\n",
       "       [2.81390429e-01, 1.85722604e-01, 1.57237798e-02, 5.82490526e-02,\n",
       "        3.77905145e-02, 8.76219794e-02, 9.91368070e-02, 1.28704965e-01,\n",
       "        3.46192718e-02, 7.10405856e-02],\n",
       "       [2.49536242e-02, 1.41818263e-02, 2.05267034e-03, 1.46063324e-02,\n",
       "        8.55957344e-03, 2.59821638e-02, 3.37130092e-02, 7.35521615e-02,\n",
       "        6.06097467e-02, 7.41788805e-01],\n",
       "       [1.48358509e-01, 1.12034045e-01, 3.94670293e-02, 7.64286816e-02,\n",
       "        6.58920780e-02, 9.74832997e-02, 1.03442214e-01, 1.34331942e-01,\n",
       "        7.46769384e-02, 1.47885263e-01]], dtype=float32)"
      ]
     },
     "execution_count": 355,
     "metadata": {},
     "output_type": "execute_result"
    }
   ],
   "source": [
    "res_test = model.predict(sequences_test)\n",
    "res_test"
   ]
  },
  {
   "cell_type": "code",
   "execution_count": 356,
   "id": "fe4865dc",
   "metadata": {},
   "outputs": [
    {
     "data": {
      "text/plain": [
       "[9, 9, 0, 9, 0]"
      ]
     },
     "execution_count": 356,
     "metadata": {},
     "output_type": "execute_result"
    }
   ],
   "source": [
    "score_res = []\n",
    "\n",
    "for a in res_test:\n",
    "    score_res.append(np.argmax(a))\n",
    "    \n",
    "score_res"
   ]
  },
  {
   "cell_type": "markdown",
   "id": "bf65c8b9",
   "metadata": {},
   "source": [
    "##### 리뷰데이터 별점으로 표기"
   ]
  },
  {
   "cell_type": "code",
   "execution_count": 402,
   "id": "e5104eb3",
   "metadata": {},
   "outputs": [
    {
     "name": "stdout",
     "output_type": "stream",
     "text": [
      "\n",
      "\n",
      "\n",
      "====================================================================================================================================\n",
      "1 번째 리뷰\n",
      "\n",
      "한 마디로 ‘치유’의 과정\n",
      "평점 :  ★★★★★★★★★★ 10\n",
      "====================================================================================================================================\n",
      "2 번째 리뷰\n",
      "\n",
      "감동입니다..너무 재미있어용\n",
      "평점 :  ★★★★★★★★★★ 10\n",
      "====================================================================================================================================\n",
      "3 번째 리뷰\n",
      "\n",
      "최악 !! 다신 안본다.\n",
      "평점 :  ★☆☆☆☆☆☆☆☆☆ 1\n",
      "====================================================================================================================================\n",
      "4 번째 리뷰\n",
      "\n",
      "처음엔 좋았으나 갈수록 보기거북함\n",
      "평점 :  ★★★★★★★★★★ 10\n",
      "====================================================================================================================================\n",
      "5 번째 리뷰\n",
      "\n",
      "사형수는 개뿔, 죄없는 애들 속여서 끌고간거라고! 유족들은 억울함도 못풀었는데….이런식으로 팔아먹었어야 했냐? 감독 진짜 양심 터졌구나.\n",
      "평점 :  ★☆☆☆☆☆☆☆☆☆ 1\n",
      "====================================================================================================================================\n"
     ]
    }
   ],
   "source": [
    "score_list = []\n",
    "b_star = \"★\"\n",
    "w_star = \"☆\"\n",
    "\n",
    "print(\"\\n\\n\")\n",
    "for i in range(len(text_list)):\n",
    "    score1 = b_star * (score_res[i] + 1) # 별점 (검은하트)\n",
    "    score2 = w_star * (10 - (score_res[i] + 1)) # 빈하트\n",
    "    score = score1 + score2\n",
    "    print(\"====================================================================================================================================\")\n",
    "    print(i + 1, \"번째 리뷰\\n\")\n",
    "    print(text_list[i])\n",
    "    print(\"평점 : \", score, (score_res[i] + 1))\n",
    "print(\"====================================================================================================================================\")"
   ]
  },
  {
   "cell_type": "code",
   "execution_count": null,
   "id": "4e009d59",
   "metadata": {},
   "outputs": [],
   "source": []
  }
 ],
 "metadata": {
  "kernelspec": {
   "display_name": "Python 3 (ipykernel)",
   "language": "python",
   "name": "python3"
  },
  "language_info": {
   "codemirror_mode": {
    "name": "ipython",
    "version": 3
   },
   "file_extension": ".py",
   "mimetype": "text/x-python",
   "name": "python",
   "nbconvert_exporter": "python",
   "pygments_lexer": "ipython3",
   "version": "3.9.9"
  },
  "nbTranslate": {
   "displayLangs": [
    "*"
   ],
   "hotkey": "alt-t",
   "langInMainMenu": true,
   "sourceLang": "en",
   "targetLang": "fr",
   "useGoogleTranslate": true
  },
  "toc": {
   "base_numbering": 1,
   "nav_menu": {},
   "number_sections": true,
   "sideBar": true,
   "skip_h1_title": false,
   "title_cell": "Table of Contents",
   "title_sidebar": "Contents",
   "toc_cell": false,
   "toc_position": {},
   "toc_section_display": true,
   "toc_window_display": false
  },
  "varInspector": {
   "cols": {
    "lenName": 16,
    "lenType": 16,
    "lenVar": 40
   },
   "kernels_config": {
    "python": {
     "delete_cmd_postfix": "",
     "delete_cmd_prefix": "del ",
     "library": "var_list.py",
     "varRefreshCmd": "print(var_dic_list())"
    },
    "r": {
     "delete_cmd_postfix": ") ",
     "delete_cmd_prefix": "rm(",
     "library": "var_list.r",
     "varRefreshCmd": "cat(var_dic_list()) "
    }
   },
   "types_to_exclude": [
    "module",
    "function",
    "builtin_function_or_method",
    "instance",
    "_Feature"
   ],
   "window_display": false
  }
 },
 "nbformat": 4,
 "nbformat_minor": 5
}
