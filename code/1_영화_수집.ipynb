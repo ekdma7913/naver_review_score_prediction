{
 "cells": [
  {
   "cell_type": "code",
   "execution_count": 1,
   "id": "c7c7c525",
   "metadata": {
    "ExecuteTime": {
     "end_time": "2022-01-10T06:55:04.787287Z",
     "start_time": "2022-01-10T06:55:04.351506Z"
    }
   },
   "outputs": [],
   "source": [
    "# 셀레니움\n",
    "from selenium import webdriver\n",
    "from selenium.webdriver.common.keys import Keys\n",
    "from selenium.webdriver.common.by import By\n",
    "\n",
    "import os\n",
    "import time\n",
    "import pandas as pd\n",
    "\n",
    "# xlsx파일로 저장\n",
    "import openpyxl"
   ]
  },
  {
   "cell_type": "code",
   "execution_count": 2,
   "id": "7010fe80",
   "metadata": {
    "ExecuteTime": {
     "end_time": "2022-01-10T06:55:05.192803Z",
     "start_time": "2022-01-10T06:55:05.092146Z"
    }
   },
   "outputs": [],
   "source": [
    "# 파일 불러오기\n",
    "xlsx = pd.read_excel('KOBIS_역대_박스오피스_내역.xlsx',engine=\"openpyxl\")"
   ]
  },
  {
   "cell_type": "code",
   "execution_count": 4,
   "id": "d86ebb10",
   "metadata": {
    "ExecuteTime": {
     "end_time": "2022-01-10T06:55:25.095902Z",
     "start_time": "2022-01-10T06:55:25.089143Z"
    }
   },
   "outputs": [
    {
     "name": "stdout",
     "output_type": "stream",
     "text": [
      "['명량', '극한직업', '신과함께-죄와 벌', '국제시장', '어벤져스: 엔드게임', '겨울왕국 2', '아바타', '베테랑', '괴물', '도둑들', '7번방의 선물', '암살', '알라딘', '광해, 왕이 된 남자', '왕의 남자', '신과함께-인과 연', '택시운전사', '태극기 휘날리며', '부산행', '해운대', '변호인', '어벤져스: 인피니티 워', '실미도', '어벤져스: 에이지 오브 울트론', '기생충', '겨울왕국', '인터스텔라', '보헤미안 랩소디', '검사외전', '엑시트', '설국열차', '관상', '아이언맨 3', '캡틴 아메리카: 시빌 워', '해적: 바다로 간 산적', '수상한 그녀', '국가대표', '디워', '백두산', '과속스캔들', '스파이더맨: 파 프롬 홈', '웰컴 투 동막골', '공조', '트랜스포머 3', '히말라야', '미션임파서블:고스트프로토콜', '트랜스포머: 패자의 역습', '밀정', '최종병기 활', '트랜스포머', '써니', '화려한 휴가', '스파이더맨: 홈 커밍', 1987, '베를린', '마스터', '터널', '어벤져스', '내부자들', '인천상륙작전', '럭키', '은밀하게 위대하게', '곡성', '범죄도시', '타짜', '좋은 놈, 나쁜 놈, 이상한 놈', '늑대소년', '미녀는 괴로워', '군함도', '미션 임파서블: 폴아웃', '다크 나이트 라이즈', '아저씨', '사도', '전우치', '킹스맨 : 시크릿 에이전트', '미션 임파서블: 로그네이션', '투사부일체', '연평해전', '반지의 제왕 : 왕의 귀환', '인셉션', '레미제라블', '쉬리', '캡틴 마블', '미션 임파서블 3', '쥬라기 월드: 폴른 킹덤', '청년경찰', '가문의 위기(가문의 영광2)', '숨바꼭질', '덕혜옹주', '더 테러 라이브', '스파이더맨: 노 웨이 홈', '쥬라기 월드', '감시자들', '의형제', 2012, '앤트맨과 와스프', '닥터 스트레인지', '검은 사제들', '안시성', '블랙 팬서']\n"
     ]
    }
   ],
   "source": [
    "movie = []\n",
    "\n",
    "# 박스오피스 영화 순위 100\n",
    "for x in xlsx[\"영화명\"][0:100]:\n",
    "    movie.append(x)\n",
    "\n",
    "print(movie)"
   ]
  },
  {
   "cell_type": "code",
   "execution_count": 8,
   "id": "c3120328",
   "metadata": {
    "ExecuteTime": {
     "end_time": "2022-01-10T07:17:23.043135Z",
     "start_time": "2022-01-10T07:13:30.330390Z"
    }
   },
   "outputs": [],
   "source": [
    "## 영화 코드 추출\n",
    "## 영화 검색 -> 영화 목록 리스트 -> 리스트 중 하나를 검색하면 제일 먼저 앞에 나오는 걸 영화로 지칭하고 그 안의 코드를 추출\n",
    "data2 = []\n",
    "\n",
    "driver = webdriver.Chrome()\n",
    "\n",
    "# 영화 목록\n",
    "\n",
    "#movie_list = open(\"영화코드.txt\",\"w\")\n",
    "\n",
    "for x in movie:\n",
    "    driver.get(\"https://movie.naver.com/movie/search/result.naver?section=movie&query=\"+str(x))\n",
    "    time.sleep(1)\n",
    "    q = driver.find_element(By.XPATH, \"/html/body/div/div[4]/div/div/div/div/div[1]/ul[2]/li[1]/dl/dt\")\n",
    "    w = q.find_element(By.TAG_NAME,\"a\")\n",
    "    e = w.get_attribute(\"href\")\n",
    "    data2.append(e[53:]) # data2에 영화 코드 저장\n",
    "    #movie_list.write(str(e[53:])+\"\\n\") # movie_list.txt에 한줄씩 코드 작성\n",
    "    \n",
    "movie_list.close()"
   ]
  },
  {
   "cell_type": "code",
   "execution_count": 11,
   "id": "6e2d7ca3",
   "metadata": {
    "ExecuteTime": {
     "end_time": "2022-01-10T07:23:30.283247Z",
     "start_time": "2022-01-10T07:23:30.275070Z"
    }
   },
   "outputs": [
    {
     "name": "stdout",
     "output_type": "stream",
     "text": [
      "0 133253\n",
      "1 167651\n",
      "2 85579\n",
      "3 102875\n",
      "4 136900\n",
      "5 136873\n",
      "6 84024\n",
      "7 115977\n",
      "8 210812\n",
      "9 210927\n",
      "10 94775\n",
      "11 121048\n",
      "12 163788\n",
      "13 83893\n",
      "14 39894\n",
      "15 167697\n",
      "16 146469\n",
      "17 36666\n",
      "18 130966\n",
      "19 45321\n",
      "20 101901\n",
      "21 136315\n",
      "22 34501\n",
      "23 98438\n",
      "24 161967\n",
      "25 136873\n",
      "26 149545\n",
      "27 156464\n",
      "28 130903\n",
      "29 203021\n",
      "30 62328\n",
      "31 93728\n",
      "32 70254\n",
      "33 122527\n",
      "34 102817\n",
      "35 107924\n",
      "36 141824\n",
      "37 39569\n",
      "38 187940\n",
      "39 51143\n",
      "40 173123\n",
      "41 39405\n",
      "42 142384\n",
      "43 70241\n",
      "44 100647\n",
      "45 53372\n",
      "46 68052\n",
      "47 137952\n",
      "48 83084\n",
      "49 123630\n",
      "50 212745\n",
      "51 58018\n",
      "52 135874\n",
      "53 158191\n",
      "54 158100\n",
      "55 145162\n",
      "56 199913\n",
      "57 136900\n",
      "58 121788\n",
      "59 142822\n",
      "60 196284\n",
      "61 92575\n",
      "62 121051\n",
      "63 192608\n",
      "64 96951\n",
      "65 65674\n",
      "66 135725\n",
      "67 39157\n",
      "68 146506\n",
      "69 154222\n",
      "70 72054\n",
      "71 122851\n",
      "72 121922\n",
      "73 48227\n",
      "74 114249\n",
      "75 95541\n",
      "76 41450\n",
      "77 102272\n",
      "78 31796\n",
      "79 191735\n",
      "80 191469\n",
      "81 19500\n",
      "82 132623\n",
      "83 43153\n",
      "84 154285\n",
      "85 153652\n",
      "86 41438\n",
      "87 195326\n",
      "88 94767\n",
      "89 211939\n",
      "90 208077\n",
      "91 191646\n",
      "92 98146\n",
      "93 52548\n",
      "94 110457\n",
      "95 144330\n",
      "96 182016\n",
      "97 197843\n",
      "98 163533\n",
      "99 137326\n"
     ]
    }
   ],
   "source": [
    "# 검색해서 다른 영화를 지목하는 경우가 있음 ->  #movie_list 주석처리 + 일일이 수정해놓자\n",
    "\n",
    "#코드 재확인\n",
    "for x,i in enumerate(data2):\n",
    "    print(x,i)"
   ]
  },
  {
   "cell_type": "code",
   "execution_count": 51,
   "id": "57bd8a4c",
   "metadata": {
    "ExecuteTime": {
     "end_time": "2022-01-10T08:13:25.721101Z",
     "start_time": "2022-01-10T08:13:25.717516Z"
    }
   },
   "outputs": [],
   "source": [
    "## 검색후 코드 잘못 부른 영화 일일이 다른 항목들 다 수정\n",
    "\n",
    "#명량 0 : 93756\n",
    "#아바타 6 : 62266\n",
    "#괴물 8 : 39841\n",
    "#아미\n",
    "#겨울왕국 25 : 100931\n",
    "#인터스텔라 26 : 45290\n",
    "#엑시트 29 : 174903\n",
    "#국가대표 37 : 47385\n",
    "#트랜스포머49 : 61521\n",
    "#써니 50 : 76016\n",
    "#베를린 54: 89218\n",
    "#터널 56: 141104\n",
    "#어벤저스 57: 72363\n",
    "#럭키 60: 140695\n",
    "#범죄도시 63: 161242\n",
    "#타자 64: 57723\n",
    "#느대소년 66: 88253\n",
    "#아저씨 71: 71509\n",
    "#인셉션 79: 52515\n",
    "#레미제라블 80: 89755\n",
    "#숨바꼭질 87: 102824\n",
    "#더테러라이브 89: 99794\n",
    "#쥬라기월드 91: 67786\n",
    "#2012 94: 49727\n",
    "#닥터스트렌인지 96: 125459\n",
    "#검은사제들 97: 120157\n",
    "\n",
    "#data2[9] = \"78726\""
   ]
  },
  {
   "cell_type": "code",
   "execution_count": 52,
   "id": "7516c72f",
   "metadata": {
    "ExecuteTime": {
     "end_time": "2022-01-10T08:13:29.158043Z",
     "start_time": "2022-01-10T08:13:29.153892Z"
    }
   },
   "outputs": [],
   "source": [
    "# movie_real.txt 만들어서 data2의 요소들을 작성하자\n",
    "movie_real = open(\"영화목록_리얼.txt\",\"w\")\n",
    "for x in data2:\n",
    "    movie_real.write(x+\"\\n\")"
   ]
  },
  {
   "cell_type": "code",
   "execution_count": 53,
   "id": "84ce82c7",
   "metadata": {
    "ExecuteTime": {
     "end_time": "2022-01-10T08:13:29.925363Z",
     "start_time": "2022-01-10T08:13:29.921006Z"
    }
   },
   "outputs": [
    {
     "data": {
      "text/plain": [
       "100"
      ]
     },
     "execution_count": 53,
     "metadata": {},
     "output_type": "execute_result"
    }
   ],
   "source": [
    "len(data2)"
   ]
  },
  {
   "cell_type": "code",
   "execution_count": 55,
   "id": "d0eba1a3",
   "metadata": {
    "ExecuteTime": {
     "end_time": "2022-01-10T08:59:15.726565Z",
     "start_time": "2022-01-10T08:18:05.792813Z"
    }
   },
   "outputs": [],
   "source": [
    "## 영화 관련 정보 추출\n",
    "driver = webdriver.Chrome()\n",
    "data = []\n",
    "\n",
    "page = 20 # 내가 읽고 싶은 페이지 수\n",
    "\n",
    "for z in data2:\n",
    "    for a in range(1,page+1): # 페이지1장 당 20개의 리뷰\n",
    "        #다음 장 넘기기\n",
    "        driver.get(\"https://movie.naver.com/movie/point/af/list.naver?st=mcode&sword=\"+str(z)+\"&target=after&page=\"+str(a))\n",
    "        time.sleep(2)\n",
    "        # 영화 이름 20개 이름, 별점, 리뷰내용 추출\n",
    "        b = driver.find_elements(By.CLASS_NAME,\"title\")\n",
    "        for x in range(10):\n",
    "            # 영화 이름\n",
    "            name = b[x].text.split(\"\\n\")[0]\n",
    "\n",
    "            # 영화 평점 별점\n",
    "            num = b[x].text.split(\"\\n\")[2]\n",
    "\n",
    "            # 영화 평점 내용\n",
    "            review = b[x].text.split(\"\\n\")[3][:-3]\n",
    "\n",
    "            data.append(np.asarray((name,num,review)))\n",
    "        \n",
    "data_df = pd.DataFrame(data,columns=['name','num','review'])\n"
   ]
  },
  {
   "cell_type": "code",
   "execution_count": 57,
   "id": "672ce0f8",
   "metadata": {
    "ExecuteTime": {
     "end_time": "2022-01-10T08:59:24.185559Z",
     "start_time": "2022-01-10T08:59:24.168743Z"
    }
   },
   "outputs": [
    {
     "data": {
      "text/html": [
       "<div>\n",
       "<style scoped>\n",
       "    .dataframe tbody tr th:only-of-type {\n",
       "        vertical-align: middle;\n",
       "    }\n",
       "\n",
       "    .dataframe tbody tr th {\n",
       "        vertical-align: top;\n",
       "    }\n",
       "\n",
       "    .dataframe thead th {\n",
       "        text-align: right;\n",
       "    }\n",
       "</style>\n",
       "<table border=\"1\" class=\"dataframe\">\n",
       "  <thead>\n",
       "    <tr style=\"text-align: right;\">\n",
       "      <th></th>\n",
       "      <th>name</th>\n",
       "      <th>num</th>\n",
       "      <th>review</th>\n",
       "    </tr>\n",
       "  </thead>\n",
       "  <tbody>\n",
       "    <tr>\n",
       "      <th>0</th>\n",
       "      <td>명량</td>\n",
       "      <td>10</td>\n",
       "      <td>역대 대명작이라 자부합니다^^</td>\n",
       "    </tr>\n",
       "    <tr>\n",
       "      <th>1</th>\n",
       "      <td>명량</td>\n",
       "      <td>10</td>\n",
       "      <td>진짜 이건 우리나라 영화계에 한 획을 그을 정도에 명작입니다 우리가 역사를 배워야 ...</td>\n",
       "    </tr>\n",
       "    <tr>\n",
       "      <th>2</th>\n",
       "      <td>명량</td>\n",
       "      <td>3</td>\n",
       "      <td>국뽕 범벅, 거품, 스크린독점 관객동원</td>\n",
       "    </tr>\n",
       "    <tr>\n",
       "      <th>3</th>\n",
       "      <td>명량</td>\n",
       "      <td>10</td>\n",
       "      <td>초등 고학년 아들과 진도에 다녀온후 같이 봣는데 정말 감사하고 감동이며 죄송스러운 ...</td>\n",
       "    </tr>\n",
       "    <tr>\n",
       "      <th>4</th>\n",
       "      <td>명량</td>\n",
       "      <td>10</td>\n",
       "      <td>깊게 숨을 들이쉬고 후하고 내뱉은 뒤, 이 영화를 보아라. 다보고 나서 이틀 뒤에 ...</td>\n",
       "    </tr>\n",
       "    <tr>\n",
       "      <th>...</th>\n",
       "      <td>...</td>\n",
       "      <td>...</td>\n",
       "      <td>...</td>\n",
       "    </tr>\n",
       "    <tr>\n",
       "      <th>9995</th>\n",
       "      <td>블랙 팬서</td>\n",
       "      <td>10</td>\n",
       "      <td></td>\n",
       "    </tr>\n",
       "    <tr>\n",
       "      <th>9996</th>\n",
       "      <td>블랙 팬서</td>\n",
       "      <td>10</td>\n",
       "      <td>와칸다의 왕, 그의 죽음은 끝이 아니길..</td>\n",
       "    </tr>\n",
       "    <tr>\n",
       "      <th>9997</th>\n",
       "      <td>블랙 팬서</td>\n",
       "      <td>10</td>\n",
       "      <td>와칸다 포에버!! 당신이 떠났어도 왕국을 지키겠습니다</td>\n",
       "    </tr>\n",
       "    <tr>\n",
       "      <th>9998</th>\n",
       "      <td>블랙 팬서</td>\n",
       "      <td>10</td>\n",
       "      <td>처음 볼 때는 그저 재미있는 영화라고 생각을 하였습니다. 그런데 암 투병 중에 촬영...</td>\n",
       "    </tr>\n",
       "    <tr>\n",
       "      <th>9999</th>\n",
       "      <td>블랙 팬서</td>\n",
       "      <td>10</td>\n",
       "      <td>R.I.P 채드윅. 영원한 블랙팬서</td>\n",
       "    </tr>\n",
       "  </tbody>\n",
       "</table>\n",
       "<p>10000 rows × 3 columns</p>\n",
       "</div>"
      ],
      "text/plain": [
       "       name num                                             review\n",
       "0        명량  10                                   역대 대명작이라 자부합니다^^\n",
       "1        명량  10  진짜 이건 우리나라 영화계에 한 획을 그을 정도에 명작입니다 우리가 역사를 배워야 ...\n",
       "2        명량   3                              국뽕 범벅, 거품, 스크린독점 관객동원\n",
       "3        명량  10  초등 고학년 아들과 진도에 다녀온후 같이 봣는데 정말 감사하고 감동이며 죄송스러운 ...\n",
       "4        명량  10  깊게 숨을 들이쉬고 후하고 내뱉은 뒤, 이 영화를 보아라. 다보고 나서 이틀 뒤에 ...\n",
       "...     ...  ..                                                ...\n",
       "9995  블랙 팬서  10                                                   \n",
       "9996  블랙 팬서  10                            와칸다의 왕, 그의 죽음은 끝이 아니길..\n",
       "9997  블랙 팬서  10                      와칸다 포에버!! 당신이 떠났어도 왕국을 지키겠습니다\n",
       "9998  블랙 팬서  10  처음 볼 때는 그저 재미있는 영화라고 생각을 하였습니다. 그런데 암 투병 중에 촬영...\n",
       "9999  블랙 팬서  10                                R.I.P 채드윅. 영원한 블랙팬서\n",
       "\n",
       "[10000 rows x 3 columns]"
      ]
     },
     "execution_count": 57,
     "metadata": {},
     "output_type": "execute_result"
    }
   ],
   "source": [
    "data_df"
   ]
  },
  {
   "cell_type": "code",
   "execution_count": 58,
   "id": "82b9a315",
   "metadata": {
    "ExecuteTime": {
     "end_time": "2022-01-10T08:59:29.472675Z",
     "start_time": "2022-01-10T08:59:28.404931Z"
    }
   },
   "outputs": [],
   "source": [
    "data_df.to_excel(\"영화목록3.xlsx\",engine=\"openpyxl\")\n",
    "\n",
    "#나중에 누가 받을때 오류나면 아마 uft-8 cp949 관련 문제이므로 encoding을 지정하면 해결됨."
   ]
  },
  {
   "cell_type": "code",
   "execution_count": null,
   "id": "4c3fcbfc",
   "metadata": {},
   "outputs": [],
   "source": [
    "######### 노-력 흔적들 #########"
   ]
  },
  {
   "cell_type": "code",
   "execution_count": 91,
   "id": "9c31bef6",
   "metadata": {
    "ExecuteTime": {
     "end_time": "2022-01-10T04:46:21.635915Z",
     "start_time": "2022-01-10T04:46:21.603433Z"
    }
   },
   "outputs": [
    {
     "name": "stdout",
     "output_type": "stream",
     "text": [
      "https://movie.naver.com/movie/bi/mi/basic.naver?code=167651\n",
      "167651\n"
     ]
    },
    {
     "data": {
      "text/plain": [
       "'for x in q:\\n    print(x.text)'"
      ]
     },
     "execution_count": 91,
     "metadata": {},
     "output_type": "execute_result"
    }
   ],
   "source": [
    "## 노-력의 흔적\n",
    "\n",
    "#c = driver.find_elements(By.XPATH,\"/html/body/div/div[4]/div/div/div/div/div[1]/ul[2]/li[1]/dl/dt\")\n",
    "#c = driver.find_element(By.CLASS_NAME,\"search_list_1\")\n",
    "\n",
    "#href 태그 내 이름 추출\n",
    "\n",
    "'''q = driver.find_element(By.XPATH, \"/html/body/div/div[4]/div/div/div/div/div[1]/ul[2]/li[1]/dl/dt\")\n",
    "w = q.find_element(By.TAG_NAME,\"a\")\n",
    "e = w.get_attribute(\"href\")\n",
    "#print(e)\n",
    "print(e[53:]) # 53번째 부터 숫자가 나옴'''"
   ]
  },
  {
   "cell_type": "code",
   "execution_count": 9,
   "id": "3d423b31",
   "metadata": {
    "ExecuteTime": {
     "end_time": "2022-01-10T02:50:40.105876Z",
     "start_time": "2022-01-10T02:50:39.975049Z"
    }
   },
   "outputs": [
    {
     "name": "stdout",
     "output_type": "stream",
     "text": [
      "스파이더맨: 노 웨이 홈\n",
      "별점 - 총 10점 중\n",
      "10\n",
      "눈은 즐거웠습니다 신고\n",
      "스파이더맨: 노 웨이 홈\n",
      "별점 - 총 10점 중\n",
      "10\n",
      "신고\n",
      "스파이더맨: 노 웨이 홈\n",
      "별점 - 총 10점 중\n",
      "10\n",
      "삼스파가 모였을 때 정말 좋았어요. 신고\n",
      "스파이더맨: 노 웨이 홈\n",
      "별점 - 총 10점 중\n",
      "6\n",
      "기억에 남는 액션이 없어요.. 신고\n",
      "스파이더맨: 노 웨이 홈\n",
      "별점 - 총 10점 중\n",
      "8\n",
      "전반적으로 너무 재밌게 봤는데 이제는 마블 스토리가 점점 복잡해져요 신고\n",
      "스파이더맨: 노 웨이 홈\n",
      "별점 - 총 10점 중\n",
      "8\n",
      "주인공 개 극암덩이샛기임 신고\n",
      "스파이더맨: 노 웨이 홈\n",
      "별점 - 총 10점 중\n",
      "10\n",
      "기존의 스파이더맨은 이번편을 위하여 만들어진 것이라 해도 과언이 아닐 정도로 좋았습니다.스파이더맨 전 시리즈 보시고 노웨이홈 보는거 추천드려요 ㅎㅎㅎ 신고\n",
      "스파이더맨: 노 웨이 홈\n",
      "별점 - 총 10점 중\n",
      "8\n",
      "아주 길었지만 시간 가는줄 모르고 재밌게 봤어요 신고\n",
      "스파이더맨: 노 웨이 홈\n",
      "별점 - 총 10점 중\n",
      "10\n",
      "ㅠ 지렸다 역대급 스파이더맨.. 신고\n",
      "스파이더맨: 노 웨이 홈\n",
      "별점 - 총 10점 중\n",
      "10\n",
      "존잼 신고\n"
     ]
    }
   ],
   "source": [
    "# 영화 이름 10개 이름, 별점, 리뷰내용\n",
    "b = driver.find_elements(By.CLASS_NAME,\"title\")\n",
    "for x in b:\n",
    "    print(x.text)"
   ]
  },
  {
   "cell_type": "code",
   "execution_count": 21,
   "id": "319de76d",
   "metadata": {
    "ExecuteTime": {
     "end_time": "2022-01-10T02:53:20.987916Z",
     "start_time": "2022-01-10T02:53:20.940454Z"
    }
   },
   "outputs": [
    {
     "name": "stdout",
     "output_type": "stream",
     "text": [
      "스파이더맨: 노 웨이 홈\n",
      "10\n",
      "눈은 즐거웠습니다\n"
     ]
    }
   ],
   "source": [
    "# 영화 이름\n",
    "print(b[0].text.split(\"\\n\")[0])\n",
    "\n",
    "# 영화 평점 별점\n",
    "print(b[0].text.split(\"\\n\")[2])\n",
    "\n",
    "# 영화 평점 내용\n",
    "print(b[0].text.split(\"\\n\")[3][:-3])"
   ]
  },
  {
   "cell_type": "code",
   "execution_count": null,
   "id": "1aa7fb67",
   "metadata": {},
   "outputs": [],
   "source": []
  }
 ],
 "metadata": {
  "kernelspec": {
   "display_name": "Python 3 (ipykernel)",
   "language": "python",
   "name": "python3"
  },
  "language_info": {
   "codemirror_mode": {
    "name": "ipython",
    "version": 3
   },
   "file_extension": ".py",
   "mimetype": "text/x-python",
   "name": "python",
   "nbconvert_exporter": "python",
   "pygments_lexer": "ipython3",
   "version": "3.9.9"
  },
  "toc": {
   "base_numbering": 1,
   "nav_menu": {},
   "number_sections": true,
   "sideBar": true,
   "skip_h1_title": false,
   "title_cell": "Table of Contents",
   "title_sidebar": "Contents",
   "toc_cell": false,
   "toc_position": {},
   "toc_section_display": true,
   "toc_window_display": false
  },
  "varInspector": {
   "cols": {
    "lenName": 16,
    "lenType": 16,
    "lenVar": 40
   },
   "kernels_config": {
    "python": {
     "delete_cmd_postfix": "",
     "delete_cmd_prefix": "del ",
     "library": "var_list.py",
     "varRefreshCmd": "print(var_dic_list())"
    },
    "r": {
     "delete_cmd_postfix": ") ",
     "delete_cmd_prefix": "rm(",
     "library": "var_list.r",
     "varRefreshCmd": "cat(var_dic_list()) "
    }
   },
   "types_to_exclude": [
    "module",
    "function",
    "builtin_function_or_method",
    "instance",
    "_Feature"
   ],
   "window_display": false
  }
 },
 "nbformat": 4,
 "nbformat_minor": 5
}
